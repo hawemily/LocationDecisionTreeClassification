{
 "cells": [
  {
   "cell_type": "code",
   "execution_count": 1,
   "metadata": {},
   "outputs": [],
   "source": [
    "import numpy as np\n",
    "import matplotlib.pyplot as plt"
   ]
  },
  {
   "cell_type": "code",
   "execution_count": 9,
   "metadata": {},
   "outputs": [],
   "source": [
    "clean_arr = np.loadtxt(\"wifi_db/clean_dataset.txt\")\n",
    "noisy_arr = np.loadtxt(\"wifi_db/noisy_dataset.txt\")"
   ]
  },
  {
   "cell_type": "code",
   "execution_count": 100,
   "metadata": {},
   "outputs": [],
   "source": [
    "LABEL_COL = 7\n",
    "LABEL_ROW = 1\n",
    "labels = [1, 2, 3, 4]"
   ]
  },
  {
   "cell_type": "code",
   "execution_count": 54,
   "metadata": {},
   "outputs": [
    {
     "data": {
      "text/plain": [
       "[500, 500, 500, 500]"
      ]
     },
     "execution_count": 54,
     "metadata": {},
     "output_type": "execute_result"
    }
   ],
   "source": [
    "clean_arr[:, LABEL_COL]\n",
    "ar = np.count_nonzero(clean_arr[:, [LABEL_COL]] == 1)\n",
    "ls = [ar, ar1, ar2, ar3]\n",
    "ls"
   ]
  },
  {
   "cell_type": "code",
   "execution_count": 101,
   "metadata": {},
   "outputs": [
    {
     "data": {
      "text/plain": [
       "500"
      ]
     },
     "execution_count": 101,
     "metadata": {},
     "output_type": "execute_result"
    }
   ],
   "source": [
    "def calc_num_of_rows_of_each_label(dataset, label):\n",
    "    return np.count_nonzero(dataset[LABEL_ROW] == label)\n"
   ]
  },
  {
   "cell_type": "code",
   "execution_count": 52,
   "metadata": {},
   "outputs": [],
   "source": [
    "def entropy(dataset):\n",
    "    dataset_size = dataset.shape[1]\n",
    "    res = np.zeros(len(labels))\n",
    "    for i in range(len(labels)):\n",
    "        res[i] = calc_num_of_rows_of_each_label(dataset, labels[i])\n",
    "    res = res / dataset_size\n",
    "    log_res = np.log2(res)\n",
    "    res = res * log_res\n",
    "    return - np.sum(res)  "
   ]
  },
  {
   "cell_type": "code",
   "execution_count": 70,
   "metadata": {},
   "outputs": [],
   "source": [
    "def remainder(split, dataset, sorted_row_label):\n",
    "    size_dataset = len(dataset)\n",
    "    data_with_labels = np.array([dataset, sorted_row_label])\n",
    "    left_info_gain = (split + 1) / size_dataset * entropy(data_with_labels[:, :split + 1])\n",
    "    right_info_gain = (size_dataset - split)/size_dataset * entropy(data_with_labels[:, split + 1:])\n",
    "    return left_info_gain + right_info_gain\n",
    "\n",
    "def info_gain(col, split_index, sorted_row_labels):\n",
    "    return entropy(col) - remainder(split_index, col, sorted_row_labels)"
   ]
  },
  {
   "cell_type": "code",
   "execution_count": 93,
   "metadata": {},
   "outputs": [],
   "source": [
    "def get_mid(a, b):\n",
    "    return (a + b) / 2\n",
    "\n",
    "def find_split(trng_data):\n",
    "    split_attribute = -1\n",
    "    split_value = 0\n",
    "    split_index = 0\n",
    "    overall_highest_info_gain = 0\n",
    "    \n",
    "    # sort all data amongst columns\n",
    "    transpose = trng_data.transpose()\n",
    "    # loop through each attribute\n",
    "    for i in range(len(transpose) - 1):\n",
    "        \n",
    "    \n",
    "    return (split_attribute, split_value, split_index)"
   ]
  },
  {
   "cell_type": "code",
   "execution_count": 41,
   "metadata": {},
   "outputs": [],
   "source": [
    "def decision_tree_learning(training_dataset, depth):\n",
    "    return"
   ]
  },
  {
   "cell_type": "code",
   "execution_count": 77,
   "metadata": {},
   "outputs": [
    {
     "data": {
      "text/plain": [
       "(2000, 8)"
      ]
     },
     "execution_count": 77,
     "metadata": {},
     "output_type": "execute_result"
    }
   ],
   "source": [
    "entropy(clean_arr)\n",
    "calc_num_of_rows_of_each_label(clean_arr, 1)\n",
    "remainder(1, clean_arr)\n",
    "arr = clean_arr.transpose()\n",
    "info_gain(arr[0], 1000)\n",
    "len(arr[0])\n",
    "clean_arr.shape"
   ]
  },
  {
   "cell_type": "code",
   "execution_count": 92,
   "metadata": {},
   "outputs": [
    {
     "data": {
      "text/plain": [
       "array([1, 2, 3, 4, 5, 6, 7, 8, 9])"
      ]
     },
     "execution_count": 92,
     "metadata": {},
     "output_type": "execute_result"
    }
   ],
   "source": [
    "a = np.arange(1, 10)\n",
    "a = np.sort(a)[:: - 1]\n",
    "b = np.arange(5, 15)\n",
    "c = [a, b]\n",
    "i = np.argsort(a)\n",
    "i\n",
    "d = c[0][i]\n",
    "d\n"
   ]
  },
  {
   "cell_type": "code",
   "execution_count": null,
   "metadata": {},
   "outputs": [],
   "source": [
    "def evaluate(test_db, trained_tree):\n",
    "    "
   ]
  }
 ],
 "metadata": {
  "kernelspec": {
   "display_name": "Python 3.7.7 64-bit",
   "language": "python",
   "name": "python37764bit1790bd69a3da4401a74ba4f74d076bcf"
  },
  "language_info": {
   "codemirror_mode": {
    "name": "ipython",
    "version": 3
   },
   "file_extension": ".py",
   "mimetype": "text/x-python",
   "name": "python",
   "nbconvert_exporter": "python",
   "pygments_lexer": "ipython3",
   "version": "3.8.6"
  }
 },
 "nbformat": 4,
 "nbformat_minor": 4
}
