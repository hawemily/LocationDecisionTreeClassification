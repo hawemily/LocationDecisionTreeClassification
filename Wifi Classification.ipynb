{
 "cells": [
  {
   "cell_type": "code",
   "execution_count": 147,
   "metadata": {},
   "outputs": [],
   "source": [
    "import numpy as np\n",
    "import matplotlib.pyplot as plt\n",
    "import math"
   ]
  },
  {
   "cell_type": "code",
   "execution_count": 148,
   "metadata": {},
   "outputs": [],
   "source": [
    "clean_arr = np.loadtxt(\"wifi_db/clean_dataset.txt\")\n",
    "noisy_arr = np.loadtxt(\"wifi_db/noisy_dataset.txt\")"
   ]
  },
  {
   "cell_type": "code",
   "execution_count": 149,
   "metadata": {},
   "outputs": [],
   "source": [
    "LABEL_COL = clean_arr.shape[1] - 1 # LABEL_COL = 7\n",
    "DATASET_SIZE = clean_arr.shape[0]\n",
    "labels = [1, 2, 3, 4]"
   ]
  },
  {
   "cell_type": "code",
   "execution_count": 150,
   "metadata": {},
   "outputs": [],
   "source": [
    "class Node():\n",
    "    def __init__(self, **kwargs):\n",
    "        self.value = kwargs.get('value', 0)\n",
    "        self.attr = kwargs.get('attr', 0)\n",
    "        self.left = kwargs.get('left', None)\n",
    "        self.right = kwargs.get('right', None)\n",
    "        self.depth = kwargs.get('depth', 0)\n",
    "    \n",
    "    def set_left(self, left):\n",
    "        self.left = left\n",
    "    \n",
    "    def set_right(self, right):\n",
    "        self.right = right"
   ]
  },
  {
   "cell_type": "code",
   "execution_count": 151,
   "metadata": {},
   "outputs": [],
   "source": [
    "def calc_label_instances(dataset, label):\n",
    "    return np.count_nonzero(dataset[:, LABEL_COL] == label)\n"
   ]
  },
  {
   "cell_type": "code",
   "execution_count": 152,
   "metadata": {},
   "outputs": [],
   "source": [
    "# since the log operation may return nan (eg log 0), replace all nan occurences with 0\n",
    "def entropy(dataset):\n",
    "    res = np.zeros(len(labels))\n",
    "    for i in range(len(labels)):\n",
    "        res[i] = calc_label_instances(dataset, labels[i])\n",
    "    res = res / DATASET_SIZE\n",
    "    log_res = np.log2(res)\n",
    "    res = res * log_res\n",
    "    res = list(map(lambda x: 0 if math.isnan(x) else x, res))\n",
    "    return - np.sum(res)"
   ]
  },
  {
   "cell_type": "code",
   "execution_count": 153,
   "metadata": {},
   "outputs": [],
   "source": [
    "# calculate info gain after splitting data set, assume dataset is sorted already\n",
    "def remainder(dataset, split_index):\n",
    "    left_info_gain = (split_index + 1) / DATASET_SIZE * entropy(dataset[: (split_index + 1)])\n",
    "    right_info_gain = (DATASET_SIZE - split_index)/DATASET_SIZE * entropy(dataset[(split_index + 1):])\n",
    "    return left_info_gain + right_info_gain\n",
    "\n",
    "\n",
    "def calc_info_gain(start_entropy, dataset, split_index):\n",
    "    return start_entropy - remainder(dataset, split_index)"
   ]
  },
  {
   "cell_type": "code",
   "execution_count": 154,
   "metadata": {
    "tags": []
   },
   "outputs": [
    {
     "output_type": "stream",
     "name": "stdout",
     "text": [
      "Feature 0 info gain: 0.9683275385070402\n",
      "Feature 1 info gain: 0.5084116016763769\n",
      "Feature 2 info gain: 0.659991086013672\n",
      "Feature 3 info gain: 0.9120599467454866\n",
      "Feature 4 info gain: 0.7440715061500625\n",
      "Feature 5 info gain: 0.7034834916612516\n",
      "Feature 6 info gain: 0.6938619921426792\n",
      "Start Entropy: 2.0\n",
      "Info Gain: 0.9683275385070402\n"
     ]
    },
    {
     "output_type": "execute_result",
     "data": {
      "text/plain": [
       "(0, -54.5, 1011)"
      ]
     },
     "metadata": {},
     "execution_count": 154
    }
   ],
   "source": [
    "def get_mid(a, b):\n",
    "    return (a + b) / 2\n",
    "\n",
    "def find_split(trng_data):\n",
    "    split_attribute = -1\n",
    "    split_value = 0\n",
    "    split_index = 0\n",
    "    overall_highest_info_gain = 0\n",
    "    # start_entropy calculated at the start, saving recomputation\n",
    "    start_entropy = entropy(trng_data)\n",
    "    \n",
    "    # sort all data amongst columns\n",
    "    # loop through each attribute\n",
    "    for i in range(LABEL_COL):\n",
    "        sorted_dataset = trng_data[trng_data[:, i].argsort()]\n",
    "        current_split_value = 0\n",
    "        feature_highest_info_gain = 0\n",
    "        current_split_index = 0\n",
    "\n",
    "        for j in range(DATASET_SIZE - 1):\n",
    "            if sorted_dataset[j][LABEL_COL] == sorted_dataset[j + 1][LABEL_COL]: continue\n",
    "\n",
    "            mid = get_mid(sorted_dataset[j][i], sorted_dataset[j + 1][i])\n",
    "            info_gain = calc_info_gain(start_entropy, sorted_dataset, j)\n",
    "\n",
    "            if (not math.isnan(info_gain)) and info_gain > feature_highest_info_gain:\n",
    "                current_split_value = mid\n",
    "                feature_highest_info_gain = info_gain\n",
    "                current_split_index = j\n",
    "\n",
    "        if overall_highest_info_gain < feature_highest_info_gain:\n",
    "            overall_highest_info_gain = feature_highest_info_gain\n",
    "            split_attribute = i\n",
    "            split_value = current_split_value\n",
    "            split_index = current_split_index\n",
    "        print(\"Feature \" + str(i) + \" info gain: \" + str(feature_highest_info_gain))\n",
    "\n",
    "    print(\"Start Entropy: \" + str(start_entropy))\n",
    "    print(\"Info Gain: \" + str(overall_highest_info_gain))\n",
    "        \n",
    "    return (split_attribute, split_value, split_index)\n",
    "\n",
    "find_split(clean_arr)"
   ]
  },
  {
   "cell_type": "code",
   "execution_count": 11,
   "metadata": {},
   "outputs": [],
   "source": [
    "def decision_tree_learning(training_dataset, depth):\n",
    "    return"
   ]
  },
  {
   "cell_type": "code",
   "execution_count": 12,
   "metadata": {},
   "outputs": [
    {
     "output_type": "stream",
     "name": "stdout",
     "text": [
      "nan\n"
     ]
    },
    {
     "output_type": "error",
     "ename": "TypeError",
     "evalue": "remainder() missing 1 required positional argument: 'sorted_row_label'",
     "traceback": [
      "\u001b[0;31m---------------------------------------------------------------------------\u001b[0m",
      "\u001b[0;31mTypeError\u001b[0m                                 Traceback (most recent call last)",
      "\u001b[0;32m<ipython-input-12-5d4290bcc43e>\u001b[0m in \u001b[0;36m<module>\u001b[0;34m\u001b[0m\n\u001b[1;32m      1\u001b[0m \u001b[0mprint\u001b[0m\u001b[0;34m(\u001b[0m\u001b[0mentropy\u001b[0m\u001b[0;34m(\u001b[0m\u001b[0mclean_arr\u001b[0m\u001b[0;34m)\u001b[0m\u001b[0;34m)\u001b[0m\u001b[0;34m\u001b[0m\u001b[0;34m\u001b[0m\u001b[0m\n\u001b[1;32m      2\u001b[0m \u001b[0mcalc_num_of_rows_of_each_label\u001b[0m\u001b[0;34m(\u001b[0m\u001b[0mclean_arr\u001b[0m\u001b[0;34m,\u001b[0m \u001b[0;36m1\u001b[0m\u001b[0;34m)\u001b[0m\u001b[0;34m\u001b[0m\u001b[0;34m\u001b[0m\u001b[0m\n\u001b[0;32m----> 3\u001b[0;31m \u001b[0mremainder\u001b[0m\u001b[0;34m(\u001b[0m\u001b[0;36m1\u001b[0m\u001b[0;34m,\u001b[0m \u001b[0mclean_arr\u001b[0m\u001b[0;34m)\u001b[0m\u001b[0;34m\u001b[0m\u001b[0;34m\u001b[0m\u001b[0m\n\u001b[0m\u001b[1;32m      4\u001b[0m \u001b[0marr\u001b[0m \u001b[0;34m=\u001b[0m \u001b[0mclean_arr\u001b[0m\u001b[0;34m.\u001b[0m\u001b[0mtranspose\u001b[0m\u001b[0;34m(\u001b[0m\u001b[0;34m)\u001b[0m\u001b[0;34m\u001b[0m\u001b[0;34m\u001b[0m\u001b[0m\n\u001b[1;32m      5\u001b[0m \u001b[0minfo_gain\u001b[0m\u001b[0;34m(\u001b[0m\u001b[0marr\u001b[0m\u001b[0;34m[\u001b[0m\u001b[0;36m0\u001b[0m\u001b[0;34m]\u001b[0m\u001b[0;34m,\u001b[0m \u001b[0;36m1000\u001b[0m\u001b[0;34m)\u001b[0m\u001b[0;34m\u001b[0m\u001b[0;34m\u001b[0m\u001b[0m\n",
      "\u001b[0;31mTypeError\u001b[0m: remainder() missing 1 required positional argument: 'sorted_row_label'"
     ]
    }
   ],
   "source": [
    "entropy(clean_arr)\n",
    "calc_label_instances(clean_arr, 1)\n",
    "remainder(1, clean_arr)\n",
    "arr = clean_arr.transpose()\n",
    "info_gain(arr[0], 1000)\n",
    "len(arr[0])\n",
    "clean_arr.shape"
   ]
  },
  {
   "cell_type": "code",
   "execution_count": null,
   "metadata": {},
   "outputs": [],
   "source": [
    "def evaluate(test_db, trained_tree):\n",
    "    "
   ]
  }
 ],
 "metadata": {
  "kernelspec": {
   "name": "Python 3.6.9 64-bit",
   "display_name": "Python 3.6.9 64-bit",
   "metadata": {
    "interpreter": {
     "hash": "767d51c1340bd893661ea55ea3124f6de3c7a262a8b4abca0554b478b1e2ff90"
    }
   }
  },
  "language_info": {
   "codemirror_mode": {
    "name": "ipython",
    "version": 3
   },
   "file_extension": ".py",
   "mimetype": "text/x-python",
   "name": "python",
   "nbconvert_exporter": "python",
   "pygments_lexer": "ipython3",
   "version": "3.6.9-final"
  }
 },
 "nbformat": 4,
 "nbformat_minor": 4
}