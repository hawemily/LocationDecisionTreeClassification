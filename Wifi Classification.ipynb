{
 "cells": [
  {
   "cell_type": "code",
   "execution_count": 1,
   "metadata": {},
   "outputs": [],
   "source": [
    "import numpy as np\n",
    "import matplotlib.pyplot as plt"
   ]
  },
  {
   "cell_type": "code",
   "execution_count": 9,
   "metadata": {},
   "outputs": [],
   "source": [
    "clean_arr = np.loadtxt(\"wifi_db/clean_dataset.txt\")\n",
    "noisy_arr = np.loadtxt(\"wifi_db/noisy_dataset.txt\")"
   ]
  },
  {
   "cell_type": "code",
   "execution_count": 35,
   "metadata": {},
   "outputs": [],
   "source": [
    "LABEL_COL = 7\n",
    "labels = [1, 2, 3, 4]"
   ]
  },
  {
   "cell_type": "code",
   "execution_count": 33,
   "metadata": {},
   "outputs": [
    {
     "data": {
      "text/plain": [
       "500"
      ]
     },
     "execution_count": 33,
     "metadata": {},
     "output_type": "execute_result"
    }
   ],
   "source": [
    "clean_arr[:, LABEL_COL]\n",
    "ar = np.count_nonzero(clean_arr[:, [LABEL_COL]] == 1)\n",
    "ar"
   ]
  },
  {
   "cell_type": "code",
   "execution_count": 36,
   "metadata": {},
   "outputs": [],
   "source": [
    "def calc_num_of_rows_of_each_label(dataset, label):\n",
    "    return np.count_nonzero(clean_arr[:, [LABEL_COL]] == label)\n",
    "    "
   ]
  },
  {
   "cell_type": "code",
   "execution_count": 37,
   "metadata": {},
   "outputs": [],
   "source": [
    "def entropy(dataset):\n",
    "    dataset_size = dataset.len()\n",
    "    res = numpy.zeros(labels.len())\n",
    "    for i in range(len(labels)):\n",
    "        res[i] = calc_num_of_rows_of_each_label(dataset, label[i]))\n",
    "    res = res / dataset_size\n",
    "    log_res = np.log2(res)\n",
    "    res = res * log_res\n",
    "    return - np.sum(res)  "
   ]
  },
  {
   "cell_type": "code",
   "execution_count": 38,
   "metadata": {},
   "outputs": [],
   "source": [
    "def remainder(split, dataset):\n",
    "    left_info_gain = (split + 1) / dataset.len() * entropy(dataset[:split + 1])\n",
    "    right_info_gain = (dataset.len() - split) * entropy(dataset[split + 1 :])\n",
    "    return left_info_gain + right_info_gain\n",
    "\n",
    "def info_gain(col, i, split):\n",
    "    return entropy(col) - remainder(i, col.len(), col)"
   ]
  },
  {
   "cell_type": "code",
   "execution_count": 40,
   "metadata": {},
   "outputs": [],
   "source": [
    "def find_split(trng_data):\n",
    "    return"
   ]
  },
  {
   "cell_type": "code",
   "execution_count": 41,
   "metadata": {},
   "outputs": [],
   "source": [
    "def decision_tree_learning(training_dataset, depth):\n",
    "    return"
   ]
  },
  {
   "cell_type": "code",
   "execution_count": null,
   "metadata": {},
   "outputs": [],
   "source": []
  }
 ],
 "metadata": {
  "kernelspec": {
   "display_name": "Python 3.7.7 64-bit",
   "language": "python",
   "name": "python37764bit1790bd69a3da4401a74ba4f74d076bcf"
  },
  "language_info": {
   "codemirror_mode": {
    "name": "ipython",
    "version": 3
   },
   "file_extension": ".py",
   "mimetype": "text/x-python",
   "name": "python",
   "nbconvert_exporter": "python",
   "pygments_lexer": "ipython3",
   "version": "3.8.6"
  }
 },
 "nbformat": 4,
 "nbformat_minor": 4
}
